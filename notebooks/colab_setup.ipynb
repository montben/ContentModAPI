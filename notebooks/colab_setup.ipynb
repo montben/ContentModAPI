{
  "cells": [
    {
      "cell_type": "markdown",
      "metadata": {},
      "source": [
        "<a href=\"https://colab.research.google.com/github/yourusername/ContentModAPI/blob/main/notebooks/colab_setup.ipynb\" target=\"_parent\"><img src=\"https://colab.research.google.com/assets/colab-badge.svg\" alt=\"Open In Colab\"/></a>\n",
        "\n",
        "# Muzzle Content Moderation - Colab Setup\n",
        "\n",
        "This notebook sets up the Muzzle content moderation project in Google Colab for GPU-accelerated training.\n",
        "\n",
        "## Features:\n",
        "- 🚀 GPU/TPU support for fast training\n",
        "- 📁 Seamless data loading from Google Drive\n",
        "- 🔄 Easy model saving and downloading\n",
        "- 📊 Built-in visualization and monitoring\n"
      ]
    },
    {
      "cell_type": "markdown",
      "metadata": {},
      "source": [
        "## 1. Environment Setup\n"
      ]
    },
    {
      "cell_type": "code",
      "execution_count": null,
      "metadata": {},
      "outputs": [],
      "source": [
        "# Check GPU availability\n",
        "import torch\n",
        "print(f\"CUDA available: {torch.cuda.is_available()}\")\n",
        "if torch.cuda.is_available():\n",
        "    print(f\"GPU: {torch.cuda.get_device_name(0)}\")\n",
        "    print(f\"Memory: {torch.cuda.get_device_properties(0).total_memory / 1024**3:.1f} GB\")\n"
      ]
    },
    {
      "cell_type": "code",
      "execution_count": null,
      "metadata": {},
      "outputs": [],
      "source": [
        "# Install required packages\n",
        "!pip install transformers datasets torch torchvision torchaudio\n",
        "!pip install scikit-learn pandas numpy matplotlib seaborn\n",
        "!pip install wandb  # Optional: for experiment tracking\n",
        "!pip install kaggle  # For downloading additional datasets\n"
      ]
    },
    {
      "cell_type": "markdown",
      "metadata": {},
      "source": [
        "## 2. Project Setup\n",
        "\n",
        "Choose one of the following methods to load your project:\n"
      ]
    },
    {
      "cell_type": "markdown",
      "metadata": {},
      "source": [
        "### Option A: Load from GitHub (Recommended)\n"
      ]
    },
    {
      "cell_type": "code",
      "execution_count": null,
      "metadata": {},
      "outputs": [],
      "source": [
        "# Clone your GitHub repository\n",
        "!git clone https://github.com/yourusername/ContentModAPI.git\n",
        "%cd ContentModAPI\n",
        "\n",
        "# Install project in development mode\n",
        "!pip install -e .\n"
      ]
    },
    {
      "cell_type": "markdown",
      "metadata": {},
      "source": [
        "### Option B: Load from Google Drive\n"
      ]
    },
    {
      "cell_type": "code",
      "execution_count": null,
      "metadata": {},
      "outputs": [],
      "source": [
        "# Mount Google Drive\n",
        "from google.colab import drive\n",
        "drive.mount('/content/drive')\n",
        "\n",
        "# Navigate to your project (adjust path as needed)\n",
        "import os\n",
        "os.chdir('/content/drive/MyDrive/ContentModAPI')\n",
        "\n",
        "# Add to Python path\n",
        "import sys\n",
        "sys.path.append('/content/drive/MyDrive/ContentModAPI')\n"
      ]
    }
  ],
  "metadata": {
    "language_info": {
      "name": "python"
    }
  },
  "nbformat": 4,
  "nbformat_minor": 2
}
